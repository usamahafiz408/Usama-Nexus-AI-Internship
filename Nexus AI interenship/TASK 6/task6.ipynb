{
 "cells": [
  {
   "cell_type": "code",
   "execution_count": 2,
   "id": "839d0eb3",
   "metadata": {},
   "outputs": [],
   "source": [
    "import numpy as np\n",
    "import cv2\n",
    "from tensorflow.keras.models import load_model\n",
    "from tensorflow.keras.applications import MobileNetV2\n",
    "from tensorflow.keras.applications.mobilenet_v2 import preprocess_input"
   ]
  },
  {
   "cell_type": "code",
   "execution_count": 3,
   "id": "3af6da2e",
   "metadata": {},
   "outputs": [],
   "source": [
    "\n",
    "SEQ_LEN = 16\n",
    "IMG_SIZE = (224, 224)\n",
    "MODEL_FILE = \"final_action_model.keras\" \n",
    "LABELS = [\n",
    "    \"basketball\",\n",
    "    \"biking\",\n",
    "    \"Diving\",\n",
    "    \"golf_swing\",\n",
    "    \"horse_riding\",\n",
    "    \"soccer_juggling\",\n",
    "    \"swing\",\n",
    "    \"tennis_swing\",\n",
    "    \"trampoline_jumping\",\n",
    "    \"volleyball_spiking\",\n",
    "    \"walking\"\n",
    "]\n",
    "IDX2LABEL = {i: lbl for i, lbl in enumerate(LABELS)}"
   ]
  },
  {
   "cell_type": "code",
   "execution_count": 4,
   "id": "719d7301",
   "metadata": {},
   "outputs": [
    {
     "name": "stderr",
     "output_type": "stream",
     "text": [
      "d:\\Projects\\myenv\\Lib\\site-packages\\keras\\src\\saving\\saving_lib.py:802: UserWarning: Skipping variable loading for optimizer 'rmsprop', because it has 9 variables whereas the saved optimizer has 16 variables. \n",
      "  saveable.load_own_variables(weights_store.get(inner_path))\n"
     ]
    }
   ],
   "source": [
    "model = load_model(MODEL_FILE)"
   ]
  },
  {
   "cell_type": "code",
   "execution_count": 5,
   "id": "40f04f2d",
   "metadata": {},
   "outputs": [],
   "source": [
    "feature_extractor = MobileNetV2(include_top=False, weights='imagenet', pooling='avg', input_shape=(*IMG_SIZE,3))"
   ]
  },
  {
   "cell_type": "code",
   "execution_count": 6,
   "id": "8e365721",
   "metadata": {},
   "outputs": [],
   "source": [
    "def sample_frames(video_path, seq_len=SEQ_LEN, img_size=IMG_SIZE):\n",
    "    cap = cv2.VideoCapture(video_path)\n",
    "    frames = []\n",
    "    total_frames = int(cap.get(cv2.CAP_PROP_FRAME_COUNT))\n",
    "    if total_frames == 0:\n",
    "        raise ValueError(\"Video has no frames or cannot be read\")\n",
    "    frame_idxs = np.linspace(0, total_frames-1, seq_len, dtype=int)\n",
    "    idx_set = set(frame_idxs)\n",
    "    for i in range(total_frames):\n",
    "        ret, frame = cap.read()\n",
    "        if not ret:\n",
    "            continue\n",
    "        if i in idx_set:\n",
    "            frame = cv2.cvtColor(frame, cv2.COLOR_BGR2RGB)\n",
    "            frame = cv2.resize(frame, img_size)\n",
    "            frames.append(frame)\n",
    "    cap.release()\n",
    "    if len(frames) < seq_len:\n",
    "        # pad by repeating last frame\n",
    "        while len(frames) < seq_len:\n",
    "            frames.append(frames[-1])\n",
    "    return np.array(frames)"
   ]
  },
  {
   "cell_type": "code",
   "execution_count": 7,
   "id": "ed282388",
   "metadata": {},
   "outputs": [],
   "source": [
    "def predict_video_action(video_path):\n",
    "    frames = sample_frames(video_path)\n",
    "    frames = preprocess_input(frames)\n",
    "    features = feature_extractor.predict(frames, verbose=0)\n",
    "    features = np.expand_dims(features, axis=0)  # batch size = 1\n",
    "    probs = model.predict(features, verbose=0)[0]\n",
    "    pred_idx = np.argmax(probs)\n",
    "    pred_label = IDX2LABEL[pred_idx]\n",
    "    return pred_label, probs"
   ]
  },
  {
   "cell_type": "code",
   "execution_count": null,
   "id": "4d0bf7fe",
   "metadata": {},
   "outputs": [
    {
     "name": "stdout",
     "output_type": "stream",
     "text": [
      "Action: golf_swing\n",
      "Probabilities: [0.05594726 0.0015833  0.00995736 0.5273444  0.01395207 0.06210929\n",
      " 0.12369637 0.00971623 0.16844793 0.00119065 0.02605511]\n"
     ]
    },
    {
     "data": {
      "text/plain": [
       "('golf_swing',\n",
       " array([0.05594726, 0.0015833 , 0.00995736, 0.5273444 , 0.01395207,\n",
       "        0.06210929, 0.12369637, 0.00971623, 0.16844793, 0.00119065,\n",
       "        0.02605511], dtype=float32))"
      ]
     },
     "execution_count": 10,
     "metadata": {},
     "output_type": "execute_result"
    }
   ],
   "source": [
    "def test_video_in_notebook(video_file):\n",
    "    action, probs = predict_video_action(video_file)\n",
    "    print(f\"Action: {action}\")\n",
    "    print(f\"Probabilities: {probs}\")\n",
    "    return action, probs\n",
    "\n",
    "# Example usage:\n",
    "test_video_in_notebook(\"vids/3.mp4\")"
   ]
  },
  {
   "cell_type": "code",
   "execution_count": null,
   "id": "6b37ee0c",
   "metadata": {},
   "outputs": [],
   "source": []
  }
 ],
 "metadata": {
  "kernelspec": {
   "display_name": "myenv",
   "language": "python",
   "name": "python3"
  },
  "language_info": {
   "codemirror_mode": {
    "name": "ipython",
    "version": 3
   },
   "file_extension": ".py",
   "mimetype": "text/x-python",
   "name": "python",
   "nbconvert_exporter": "python",
   "pygments_lexer": "ipython3",
   "version": "3.11.4"
  }
 },
 "nbformat": 4,
 "nbformat_minor": 5
}
